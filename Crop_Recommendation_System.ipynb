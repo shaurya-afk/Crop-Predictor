{
 "cells": [
  {
   "cell_type": "code",
   "execution_count": 1,
   "metadata": {
    "id": "qpm8Fk20-9BZ"
   },
   "outputs": [],
   "source": [
    "import torch\n",
    "import torch.nn as nn\n",
    "import torch.nn.functional as F"
   ]
  },
  {
   "cell_type": "code",
   "execution_count": 2,
   "metadata": {
    "id": "8Q0UDix8_jRe"
   },
   "outputs": [],
   "source": [
    "class Model(nn.Module):\n",
    "  # input layer (7 features) -> hidden layer1 (number of neurons) -> hidden layer2(number of neurons) -> output layer\n",
    "  def __init__(self, in_features=7, h1=16, h2=16, out_features=3):\n",
    "    super().__init__()\n",
    "    self.fc1 = nn.Linear(in_features, h1)\n",
    "    self.fc2 = nn.Linear(h1, h2)\n",
    "    self.out = nn.Linear(h2, out_features)\n",
    "\n",
    "  def forward(self, x):\n",
    "    x = F.relu(self.fc1(x))\n",
    "    x = F.relu(self.fc2(x))\n",
    "    x = self.out(x)\n",
    "    return x"
   ]
  },
  {
   "cell_type": "code",
   "execution_count": 3,
   "metadata": {
    "id": "zz6fvI8sBlxL"
   },
   "outputs": [],
   "source": [
    "torch.manual_seed(30)\n",
    "model = Model()"
   ]
  },
  {
   "cell_type": "code",
   "execution_count": 4,
   "metadata": {
    "id": "O-2Dbqu7BrFH"
   },
   "outputs": [],
   "source": [
    "import pandas as pd\n",
    "import numpy as np"
   ]
  },
  {
   "cell_type": "code",
   "execution_count": 5,
   "metadata": {
    "colab": {
     "base_uri": "https://localhost:8080/"
    },
    "id": "G_xd30bHpKPI",
    "outputId": "1c615d7e-c806-4609-b045-4e460c9524d4"
   },
   "outputs": [
    {
     "name": "stdout",
     "output_type": "stream",
     "text": [
      "    N   P   K  temperature   humidity        ph    rainfall label\n",
      "0  90  42  43    20.879744  82.002744  6.502985  202.935536  rice\n",
      "1  85  58  41    21.770462  80.319644  7.038096  226.655537  rice\n",
      "2  60  55  44    23.004459  82.320763  7.840207  263.964248  rice\n",
      "3  74  35  40    26.491096  80.158363  6.980401  242.864034  rice\n",
      "4  78  42  42    20.130175  81.604873  7.628473  262.717340  rice\n"
     ]
    }
   ],
   "source": [
    "df = pd.read_csv(\"Crop_recommendation.csv\")\n",
    "print(df.head())"
   ]
  },
  {
   "cell_type": "code",
   "execution_count": 6,
   "metadata": {
    "id": "CfBIQy69p2un"
   },
   "outputs": [],
   "source": [
    "X = df.drop('label', axis=1).values\n",
    "y = df['label'].values"
   ]
  },
  {
   "cell_type": "code",
   "execution_count": 7,
   "metadata": {
    "colab": {
     "base_uri": "https://localhost:8080/"
    },
    "id": "cEOOenTGxGza",
    "outputId": "3f6c59c8-7add-4cf1-dbfe-042366086841"
   },
   "outputs": [
    {
     "name": "stdout",
     "output_type": "stream",
     "text": [
      "(2200, 7) (2200,)\n",
      "[[ 90.          42.          43.          20.87974371  82.00274423\n",
      "    6.50298529 202.9355362 ]\n",
      " [ 85.          58.          41.          21.77046169  80.31964408\n",
      "    7.03809636 226.6555374 ]\n",
      " [ 60.          55.          44.          23.00445915  82.3207629\n",
      "    7.84020714 263.9642476 ]\n",
      " [ 74.          35.          40.          26.49109635  80.15836264\n",
      "    6.9804009  242.8640342 ]\n",
      " [ 78.          42.          42.          20.13017482  81.60487287\n",
      "    7.62847289 262.7173405 ]] ['rice' 'rice' 'rice' 'rice' 'rice']\n"
     ]
    }
   ],
   "source": [
    "print(X.shape, y.shape)\n",
    "print(X[:5], y[:5])\n"
   ]
  },
  {
   "cell_type": "code",
   "execution_count": 8,
   "metadata": {
    "id": "7ogDdrvJrtPL"
   },
   "outputs": [],
   "source": [
    "from sklearn.model_selection import train_test_split\n",
    "X_train, X_test, y_train, y_test = train_test_split(X, y, test_size=0.2, random_state=30)"
   ]
  },
  {
   "cell_type": "code",
   "execution_count": 9,
   "metadata": {
    "id": "jN8f7hdMsZKN"
   },
   "outputs": [],
   "source": [
    "from sklearn.preprocessing import LabelEncoder\n",
    "\n",
    "label_encoder = LabelEncoder()\n",
    "y_train = label_encoder.fit_transform(y_train) # encodes labels as integers\n",
    "y_test = label_encoder.transform(y_test)\n",
    "\n",
    "\n",
    "num_classes = len(label_encoder.classes_)\n",
    "model = Model(in_features=7, out_features=num_classes)"
   ]
  },
  {
   "cell_type": "code",
   "execution_count": 10,
   "metadata": {
    "colab": {
     "base_uri": "https://localhost:8080/"
    },
    "id": "vUDuKRAStyqG",
    "outputId": "7a044a8c-733c-498e-b9d9-0598556c989b"
   },
   "outputs": [
    {
     "name": "stdout",
     "output_type": "stream",
     "text": [
      "torch.Size([1760, 7]) torch.Size([440, 7]) torch.Size([1760]) torch.Size([440])\n"
     ]
    }
   ],
   "source": [
    "X_train = torch.FloatTensor(X_train)\n",
    "X_test = torch.FloatTensor(X_test)\n",
    "y_train = torch.LongTensor(y_train)\n",
    "y_test = torch.LongTensor(y_test)\n",
    "\n",
    "print(X_train.shape, X_test.shape, y_train.shape, y_test.shape)\n"
   ]
  },
  {
   "cell_type": "code",
   "execution_count": 11,
   "metadata": {
    "id": "zWLjcL6JuF_j"
   },
   "outputs": [],
   "source": [
    "# define the loss function\n",
    "criterion = nn.CrossEntropyLoss()\n",
    "optimizer = torch.optim.Adam(model.parameters(), lr=0.0010)"
   ]
  },
  {
   "cell_type": "code",
   "execution_count": 12,
   "metadata": {
    "colab": {
     "base_uri": "https://localhost:8080/"
    },
    "id": "kUn8jHIAuZGA",
    "outputId": "84639103-a3a8-45ed-904a-9015cacc6f21"
   },
   "outputs": [
    {
     "name": "stdout",
     "output_type": "stream",
     "text": [
      "Epoch: 0, loss: 13.660161972045898\n",
      "Epoch: 10, loss: 8.800141334533691\n",
      "Epoch: 20, loss: 6.182066917419434\n",
      "Epoch: 30, loss: 4.558180332183838\n",
      "Epoch: 40, loss: 3.5597167015075684\n",
      "Epoch: 50, loss: 2.9506349563598633\n",
      "Epoch: 60, loss: 2.5311529636383057\n",
      "Epoch: 70, loss: 2.2705092430114746\n",
      "Epoch: 80, loss: 2.091113567352295\n",
      "Epoch: 90, loss: 1.9377676248550415\n",
      "Epoch: 100, loss: 1.8002116680145264\n",
      "Epoch: 110, loss: 1.678932785987854\n",
      "Epoch: 120, loss: 1.572609543800354\n",
      "Epoch: 130, loss: 1.4748778343200684\n",
      "Epoch: 140, loss: 1.3850326538085938\n",
      "Epoch: 150, loss: 1.3006936311721802\n",
      "Epoch: 160, loss: 1.2202188968658447\n",
      "Epoch: 170, loss: 1.1435844898223877\n",
      "Epoch: 180, loss: 1.0712147951126099\n",
      "Epoch: 190, loss: 1.0032014846801758\n"
     ]
    }
   ],
   "source": [
    "epochs = 200\n",
    "losses = []\n",
    "\n",
    "for i in range(epochs):\n",
    "  y_pred = model.forward(X_train)\n",
    "  loss = criterion(y_pred, y_train)\n",
    "  losses.append(loss.item())\n",
    "\n",
    "  if i % 10 == 0:\n",
    "    print(f'Epoch: {i}, loss: {loss}')\n",
    "\n",
    "  optimizer.zero_grad()\n",
    "  loss.backward()\n",
    "  optimizer.step()"
   ]
  },
  {
   "cell_type": "code",
   "execution_count": 13,
   "metadata": {
    "colab": {
     "base_uri": "https://localhost:8080/",
     "height": 466
    },
    "id": "v4t9VCiZgXtN",
    "outputId": "5ed3b80a-199b-4244-a71a-b0c34266973f"
   },
   "outputs": [
    {
     "data": {
      "text/plain": [
       "Text(0.5, 0, 'Epoch')"
      ]
     },
     "execution_count": 13,
     "metadata": {},
     "output_type": "execute_result"
    }
   ],
   "source": [
    "import matplotlib.pyplot as plt\n",
    "%matplotlib inline\n",
    "\n",
    "plt.plot(range(epochs), losses)\n",
    "plt.ylabel('Loss')\n",
    "plt.xlabel('Epoch')"
   ]
  },
  {
   "cell_type": "code",
   "execution_count": 14,
   "metadata": {
    "colab": {
     "base_uri": "https://localhost:8080/"
    },
    "id": "Mbgd3aXAi0Mn",
    "outputId": "70aabc9e-c100-4c67-cc2e-5932fc2ab94c"
   },
   "outputs": [
    {
     "data": {
      "text/plain": [
       "tensor(0.9241)"
      ]
     },
     "execution_count": 14,
     "metadata": {},
     "output_type": "execute_result"
    }
   ],
   "source": [
    "with torch.no_grad():\n",
    "  y_eval = model.forward(X_test)\n",
    "  loss = criterion(y_eval, y_test)\n",
    "loss"
   ]
  },
  {
   "cell_type": "code",
   "execution_count": 15,
   "metadata": {
    "colab": {
     "base_uri": "https://localhost:8080/"
    },
    "id": "d0robcYxj_2V",
    "outputId": "43edd9ec-a09c-4da2-c072-03aa143b4a3a"
   },
   "outputs": [
    {
     "name": "stdout",
     "output_type": "stream",
     "text": [
      "353 out of 440 = 80.23% correct\n",
      "Number of incorrects = 87\n"
     ]
    }
   ],
   "source": [
    "correct = 0\n",
    "with torch.no_grad():\n",
    "  for i, data in enumerate(X_test):\n",
    "    y_val = model.forward(data)\n",
    "\n",
    "    # print(f'{i+1:2}. {str(data.numpy()):25} {y_val.argmax().item():<10}')\n",
    "\n",
    "    if y_val.argmax().item() == y_test[i]:\n",
    "      correct += 1\n",
    "print(f'{correct} out of {len(y_test)} = {100*correct/len(y_test):.2f}% correct\\nNumber of incorrects = {len(y_test) - correct}')"
   ]
  },
  {
   "cell_type": "code",
   "execution_count": 16,
   "metadata": {
    "colab": {
     "base_uri": "https://localhost:8080/"
    },
    "id": "rfAv-Pwtk_qN",
    "outputId": "50cc7d0b-53c7-409d-b857-aaccbbcbdbfb"
   },
   "outputs": [
    {
     "name": "stdout",
     "output_type": "stream",
     "text": [
      "Predicted class index: 20\n",
      "Predicted class label: rice\n"
     ]
    }
   ],
   "source": [
    "# [90, 42, 43, 20.87974371, 82.00274423, 6.502985292000001, 202.9355362] -> from dataset\n",
    "# [75, 65, 39, 31.79123169, 50.32964408, 6.098096361, 124.6555374] -> from our own(new data)\n",
    "\n",
    "new_data = torch.tensor([90, 42, 43, 20.87974371, 82.00274423, 6.502985292000001, 202.9355362])\n",
    "with torch.no_grad():\n",
    "  new_data_prediction = model(new_data)\n",
    "  new_data_index = new_data_prediction.argmax().item()\n",
    "\n",
    "  predicted_label = label_encoder.inverse_transform([new_data_index])[0]\n",
    "\n",
    "  print(f'Predicted class index: {new_data_index}')\n",
    "  print(f'Predicted class label: {predicted_label}')"
   ]
  },
  {
   "cell_type": "code",
   "execution_count": 17,
   "metadata": {
    "id": "SvRLJrF-pAkF"
   },
   "outputs": [],
   "source": [
    "torch.save(model.state_dict(), 'crop_prediction_model.pt')"
   ]
  },
  {
   "cell_type": "code",
   "execution_count": 18,
   "metadata": {
    "id": "ssbN8iuZqYVX"
   },
   "outputs": [],
   "source": [
    "num_classes = len(label_encoder.classes_)\n",
    "new_model = Model(in_features=7, h1=16, h2=16, out_features=num_classes)"
   ]
  },
  {
   "cell_type": "code",
   "execution_count": 19,
   "metadata": {
    "colab": {
     "base_uri": "https://localhost:8080/"
    },
    "id": "WT7cLUWRqjbj",
    "outputId": "6351536c-522f-4f4e-9a1f-7740da018039"
   },
   "outputs": [
    {
     "data": {
      "text/plain": [
       "Model(\n",
       "  (fc1): Linear(in_features=7, out_features=16, bias=True)\n",
       "  (fc2): Linear(in_features=16, out_features=16, bias=True)\n",
       "  (out): Linear(in_features=16, out_features=22, bias=True)\n",
       ")"
      ]
     },
     "execution_count": 19,
     "metadata": {},
     "output_type": "execute_result"
    }
   ],
   "source": [
    "new_model.eval()"
   ]
  },
  {
   "cell_type": "code",
   "execution_count": 20,
   "metadata": {
    "colab": {
     "base_uri": "https://localhost:8080/"
    },
    "id": "21lpW7HorKqS",
    "outputId": "a81e4461-68aa-4480-d7a2-ccc2d8375cf6"
   },
   "outputs": [
    {
     "name": "stdout",
     "output_type": "stream",
     "text": [
      "Predicted class index: 8\n",
      "Predicted class label: jute\n"
     ]
    }
   ],
   "source": [
    "# testing the new_model by providing the new data!!\n",
    "new_data = torch.tensor([90, 42, 43, 20.87974371, 82.00274423, 6.502985292000001, 202.9355362])\n",
    "with torch.no_grad():\n",
    "  new_data_prediction = new_model(new_data)\n",
    "  new_data_index = new_data_prediction.argmax().item()\n",
    "\n",
    "  predicted_label = label_encoder.inverse_transform([new_data_index])[0]\n",
    "\n",
    "  print(f'Predicted class index: {new_data_index}')\n",
    "  print(f'Predicted class label: {predicted_label}')"
   ]
  },
  {
   "cell_type": "markdown",
   "metadata": {
    "id": "YVzTGR7N6wCD"
   },
   "source": [
    "# Exporting the model so that it could be integrated in android project"
   ]
  },
  {
   "cell_type": "code",
   "execution_count": 22,
   "metadata": {
    "id": "pKR9g8b_5-tW"
   },
   "outputs": [],
   "source": [
    "# Save the trained model to a .pth file\n",
    "torch.save(model.state_dict(), \"crop_prediction_model.pt\")\n"
   ]
  },
  {
   "cell_type": "code",
   "execution_count": 44,
   "metadata": {},
   "outputs": [
    {
     "data": {
      "text/plain": [
       "['label_encoder.pkl']"
      ]
     },
     "execution_count": 44,
     "metadata": {},
     "output_type": "execute_result"
    }
   ],
   "source": [
    "import joblib\n",
    "\n",
    "# Assuming label_encoder is used in training\n",
    "joblib.dump(label_encoder, \"label_encoder.pkl\")\n"
   ]
  },
  {
   "cell_type": "code",
   "execution_count": null,
   "metadata": {},
   "outputs": [],
   "source": []
  }
 ],
 "metadata": {
  "colab": {
   "provenance": []
  },
  "kernelspec": {
   "display_name": "Python [conda env:base] *",
   "language": "python",
   "name": "conda-base-py"
  },
  "language_info": {
   "codemirror_mode": {
    "name": "ipython",
    "version": 3
   },
   "file_extension": ".py",
   "mimetype": "text/x-python",
   "name": "python",
   "nbconvert_exporter": "python",
   "pygments_lexer": "ipython3",
   "version": "3.12.7"
  }
 },
 "nbformat": 4,
 "nbformat_minor": 4
}
